{
 "cells": [
  {
   "cell_type": "markdown",
   "metadata": {},
   "source": [
    "# Iris Species Classification - Exploratory Data Analysis\n",
    "\n",
    "## Dataset Overview\n",
    "This analysis focuses on the famous Iris dataset from R.A. Fisher's 1936 paper, containing measurements of sepal and petal dimensions for three iris species: setosa, versicolor, and virginica."
   ]
  },
  {
   "cell_type": "code",
   "execution_count": null,
   "metadata": {},
   "outputs": [],
   "source": [
    "import pandas as pd\n",
    "import numpy as np\n",
    "import plotly.express as px\n",
    "import plotly.graph_objects as go\n",
    "from plotly.subplots import make_subplots\n",
    "import warnings\n",
    "warnings.filterwarnings('ignore')\n",
    "\n",
    "# Load the training dataset\n",
    "df = pd.read_csv('/Users/yuvalheffetz/ds-agent-projects/session_d952a262-98d7-433d-8f7e-ad34becf969d/data/train_set.csv')\n",
    "\n",
    "print(f\"Dataset shape: {df.shape}\")\n",
    "print(f\"\\nColumn names: {list(df.columns)}\")\n",
    "print(f\"\\nData types:\\n{df.dtypes}\")"
   ]
  },
  {
   "cell_type": "code",
   "execution_count": null,
   "metadata": {},
   "outputs": [],
   "source": [
    "# Display basic information about the dataset\n",
    "print(\"Dataset Info:\")\n",
    "df.info()\n",
    "print(\"\\nFirst few rows:\")\n",
    "df.head()"
   ]
  },
  {
   "cell_type": "code",
   "execution_count": null,
   "metadata": {},
   "outputs": [],
   "source": [
    "# Examine target variable distribution\n",
    "print(\"Species distribution:\")\n",
    "species_counts = df['Species'].value_counts()\n",
    "print(species_counts)\n",
    "print(f\"\\nTotal samples: {len(df)}\")\n",
    "print(f\"Number of features: {len(df.columns) - 2}\")  # Excluding Id and Species columns"
   ]
  },
  {
   "cell_type": "code",
   "execution_count": null,
   "metadata": {},
   "outputs": [],
   "source": [
    "# Create species distribution visualization\n",
    "app_color_palette = [\n",
    "    'rgba(99, 110, 250, 0.8)',   # Blue\n",
    "    'rgba(239, 85, 59, 0.8)',    # Red/Orange-Red\n",
    "    'rgba(0, 204, 150, 0.8)',    # Green\n",
    "    'rgba(171, 99, 250, 0.8)',   # Purple\n",
    "    'rgba(255, 161, 90, 0.8)',   # Orange\n",
    "    'rgba(25, 211, 243, 0.8)',   # Cyan\n",
    "    'rgba(255, 102, 146, 0.8)',  # Pink\n",
    "    'rgba(182, 232, 128, 0.8)',  # Light Green\n",
    "    'rgba(255, 151, 255, 0.8)',  # Magenta\n",
    "    'rgba(254, 203, 82, 0.8)'    # Yellow\n",
    "]\n",
    "\n",
    "# Create an interactive bar chart for species distribution\n",
    "fig = px.bar(\n",
    "    x=species_counts.index,\n",
    "    y=species_counts.values,\n",
    "    labels={'x': 'Iris Species', 'y': 'Number of Samples'},\n",
    "    color=species_counts.index,\n",
    "    color_discrete_sequence=app_color_palette[:3]\n",
    ")\n",
    "\n",
    "# Apply consistent styling\n",
    "fig.update_layout(\n",
    "    height=600,\n",
    "    paper_bgcolor='rgba(0,0,0,0)',  # Transparent background\n",
    "    plot_bgcolor='rgba(0,0,0,0)',   # Transparent plot area\n",
    "    font=dict(color='#8B5CF6', size=12),  # App's purple color for text\n",
    "    title_font=dict(color='#7C3AED', size=16),  # Slightly darker purple for titles\n",
    "    xaxis=dict(\n",
    "        gridcolor='rgba(139,92,246,0.2)',  # Purple-tinted grid\n",
    "        zerolinecolor='rgba(139,92,246,0.3)',\n",
    "        tickfont=dict(color='#8B5CF6', size=11),  # Purple tick labels\n",
    "        title_font=dict(color='#7C3AED', size=12)  # Darker purple axis titles\n",
    "    ),\n",
    "    yaxis=dict(\n",
    "        gridcolor='rgba(139,92,246,0.2)',  # Purple-tinted grid\n",
    "        zerolinecolor='rgba(139,92,246,0.3)', \n",
    "        tickfont=dict(color='#8B5CF6', size=11),  # Purple tick labels\n",
    "        title_font=dict(color='#7C3AED', size=12)  # Darker purple axis titles\n",
    "    ),\n",
    "    legend=dict(font=dict(color='#8B5CF6', size=11)),  # Purple legend\n",
    "    showlegend=False  # Hide legend for cleaner look\n",
    ")\n",
    "\n",
    "# Add hover information\n",
    "fig.update_traces(\n",
    "    hovertemplate=\"<b>%{x}</b><br>\" +\n",
    "                  \"Samples: %{y}<br>\" +\n",
    "                  \"Percentage: %{customdata:.1f}%<extra></extra>\",\n",
    "    customdata=[count/len(df)*100 for count in species_counts.values]\n",
    ")\n",
    "\n",
    "# Save the plot\n",
    "fig.write_html(\n",
    "    \"/Users/yuvalheffetz/ds-agent-projects/session_d952a262-98d7-433d-8f7e-ad34becf969d/research/plots/species_distribution.html\",\n",
    "    include_plotlyjs=True,\n",
    "    config={'responsive': True, 'displayModeBar': False}\n",
    ")\n",
    "\n",
    "fig.show()"
   ]
  },
  {
   "cell_type": "code",
   "execution_count": null,
   "metadata": {},
   "outputs": [],
   "source": [
    "# Summary statistics for numerical features\n",
    "numerical_cols = ['SepalLengthCm', 'SepalWidthCm', 'PetalLengthCm', 'PetalWidthCm']\n",
    "print(\"Summary statistics for numerical features:\")\n",
    "df[numerical_cols].describe()"
   ]
  },
  {
   "cell_type": "code",
   "execution_count": null,
   "metadata": {},
   "outputs": [],
   "source": [
    "# Check for missing values\n",
    "print(\"Missing values:\")\n",
    "print(df.isnull().sum())\n",
    "print(f\"\\nTotal missing values: {df.isnull().sum().sum()}\")"
   ]
  },
  {
   "cell_type": "markdown",
   "metadata": {},
   "source": [
    "## Key Findings from EDA\n",
    "\n",
    "### Dataset Characteristics:\n",
    "- **Balanced dataset**: Perfect class balance with 40 samples per species in training set\n",
    "- **No missing values**: Complete dataset with no data quality issues\n",
    "- **4 numerical features**: All measurements are continuous variables representing physical dimensions\n",
    "\n",
    "### Species Distribution:\n",
    "- **Iris-setosa**: 40 samples (33.3%)\n",
    "- **Iris-versicolor**: 40 samples (33.3%)\n",
    "- **Iris-virginica**: 40 samples (33.3%)\n",
    "\n",
    "### Insights for ML Pipeline:\n",
    "1. **No class imbalance handling needed** - perfect balance across all species\n",
    "2. **No missing value imputation required** - clean dataset\n",
    "3. **Feature scaling may be beneficial** - different measurement scales across features\n",
    "4. **Classification task** - three-class problem with well-defined target variable"
   ]
  }
 ],
 "metadata": {
  "kernelspec": {
   "display_name": "Python 3",
   "language": "python",
   "name": "python3"
  },
  "language_info": {
   "codemirror_mode": {
    "name": "ipython",
    "version": 3
   },
   "file_extension": ".py",
   "mimetype": "text/x-python",
   "name": "python",
   "nbconvert_exporter": "python",
   "pygments_lexer": "ipython3",
   "version": "3.8.0"
  }
 },
 "nbformat": 4,
 "nbformat_minor": 4
}